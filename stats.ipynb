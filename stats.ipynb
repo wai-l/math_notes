{
 "cells": [
  {
   "cell_type": "markdown",
   "metadata": {},
   "source": [
    "# Notebook for statistics"
   ]
  },
  {
   "cell_type": "markdown",
   "metadata": {},
   "source": [
    "## Probability"
   ]
  },
  {
   "cell_type": "markdown",
   "metadata": {},
   "source": [
    "### Bayes' theorem"
   ]
  },
  {
   "cell_type": "markdown",
   "metadata": {},
   "source": [
    "Posterior probability is the updated probability of an event based on new data. Posterior means occurring after. Posterior probability is calculated by updating the prior probability using Bayes' theorem. "
   ]
  },
  {
   "cell_type": "markdown",
   "metadata": {},
   "source": [
    "$$P(A \\mid B) = \\frac{ P(B \\mid A) * P(A) }{ P(B) }$$"
   ]
  },
  {
   "cell_type": "markdown",
   "metadata": {},
   "source": [
    "Event A = Rain\n",
    "<br>\n",
    "Event B = Cloudy"
   ]
  },
  {
   "cell_type": "markdown",
   "metadata": {},
   "source": [
    "Now we are trying to get the probaility of A given event B. \n",
    "<br>\n",
    "This means the probability of rain, given it's cloudy. \n",
    "\n",
    "This is also called posterior probability. "
   ]
  },
  {
   "cell_type": "markdown",
   "metadata": {},
   "source": [
    "$$P(Rain \\mid Cloud) = \\frac{ P(Cloud \\mid Rain) * P(Rain) }{ P(Cloudy) }$$"
   ]
  },
  {
   "cell_type": "markdown",
   "metadata": {},
   "source": [
    "Let's say below are the probability of each event: \n",
    "- Overall chance of rain = 10%\n",
    "- All days start off cloudy = 40%\n",
    "- Rainy days start of cloudy (P(Cloud|Rain)) = 50%"
   ]
  },
  {
   "cell_type": "markdown",
   "metadata": {},
   "source": [
    "$$P(Rain \\mid Cloud) = \\frac{ 50\\% * 10\\% }{ 40\\% }$$"
   ]
  },
  {
   "cell_type": "code",
   "execution_count": 2,
   "metadata": {},
   "outputs": [
    {
     "name": "stdout",
     "output_type": "stream",
     "text": [
      "0.125\n"
     ]
    }
   ],
   "source": [
    "p_a_b = 0.5*0.1/0.4\n",
    "\n",
    "print(p_a_b)"
   ]
  },
  {
   "cell_type": "markdown",
   "metadata": {},
   "source": [
    "$$P(Rain \\mid Cloud) = 12.5%$$"
   ]
  },
  {
   "cell_type": "markdown",
   "metadata": {},
   "source": [
    "### Bayes' theorem - expaned version"
   ]
  },
  {
   "cell_type": "markdown",
   "metadata": {},
   "source": [
    "Sometimes you don't know the probability of event B, which is in the denominator of the equation for the basic Bayes' theorem. In that case, you can use the expanded version of Bayes' theorem, because you don't need to know the probability of event B to use the expanded version. "
   ]
  },
  {
   "cell_type": "markdown",
   "metadata": {},
   "source": [
    "$$P(A \\mid B) = \\frac{P(B \\mid A) * P(A)} {P(B \\mid A) * P(A) + P(B \\mid not A) * P(not A)}$$"
   ]
  },
  {
   "cell_type": "markdown",
   "metadata": {},
   "source": []
  },
  {
   "cell_type": "code",
   "execution_count": 3,
   "metadata": {},
   "outputs": [
    {
     "name": "stdout",
     "output_type": "stream",
     "text": [
      "0.3242320819112628\n"
     ]
    }
   ],
   "source": [
    "\n",
    "# a = actually having medical condition\n",
    "a=0.01\n",
    "# b = testing positive\n",
    "\n",
    "# ba = P(B|A) - cnoditioanl probability where the person actualy has the medical condition when tested positive\n",
    "ba = 0.95\n",
    "\n",
    "# bna = P(B|not A) - probability where the person doesn't have the condition when tested positive (false positive)\n",
    "bna = 0.02\n",
    "\n",
    "# a_n = P(A') - prob of A does not occur\n",
    "a_n = 1-a\n",
    "\n",
    "# P(A|B) = P(B|A) * P(A) / (P(B|A) * P(A) + P(B|not A) * P(not A))\n",
    "\n",
    "P_A_B = 0.95 * 0.01 / (0.95*0.01 + 0.02 * 0.99)\n",
    "\n",
    "print(P_A_B)"
   ]
  },
  {
   "cell_type": "markdown",
   "metadata": {},
   "source": [
    "$$P(A \\mid B) = 32.4%$$"
   ]
  },
  {
   "cell_type": "markdown",
   "metadata": {},
   "source": []
  }
 ],
 "metadata": {
  "kernelspec": {
   "display_name": "Python 3",
   "language": "python",
   "name": "python3"
  },
  "language_info": {
   "codemirror_mode": {
    "name": "ipython",
    "version": 3
   },
   "file_extension": ".py",
   "mimetype": "text/x-python",
   "name": "python",
   "nbconvert_exporter": "python",
   "pygments_lexer": "ipython3",
   "version": "3.11.1"
  }
 },
 "nbformat": 4,
 "nbformat_minor": 2
}
